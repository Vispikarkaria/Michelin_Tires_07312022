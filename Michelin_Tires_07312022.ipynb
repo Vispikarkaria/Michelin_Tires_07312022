{
 "cells": [
  {
   "cell_type": "code",
   "execution_count": 88,
   "metadata": {},
   "outputs": [],
   "source": [
    "import pandas as p\n",
    "import numpy as np\n",
    "import matplotlib.pyplot as plt\n",
    "import pandas as pd\n",
    "import warnings\n",
    "import forestci as fci\n",
    "warnings.filterwarnings('ignore')\n",
    "from sklearn.preprocessing import LabelEncoder\n",
    "from sklearn.model_selection import train_test_split\n",
    "from sklearn.ensemble import RandomForestClassifier\n",
    "from sklearn import metrics\n",
    "\n"
   ]
  },
  {
   "cell_type": "code",
   "execution_count": 89,
   "metadata": {},
   "outputs": [],
   "source": [
    "## The file is opened as a Dataframe \n",
    "df = p.read_csv('/Users/vispikarkaria/Downloads/share_data_withFEA_metrics.csv')\n",
    "df = df.dropna()\n"
   ]
  },
  {
   "cell_type": "code",
   "execution_count": 90,
   "metadata": {},
   "outputs": [
    {
     "name": "stdout",
     "output_type": "stream",
     "text": [
      "{0: '10101', 1: '10109', 2: '10112', 3: '10114', 4: '10120', 5: '10150', 6: '10151', 7: '10153', 8: '10155', 9: '10157', 10: '12005', 11: '20004', 12: '20006', 13: '20007', 14: '20019', 15: '30100', 16: '30101', 17: '30105', 18: '30241', 19: '30253', 20: '30257', 21: '30258', 22: '30301', 23: '35278', 24: '35308', 25: '35313', 26: '35404', 27: '35404_OLD', 28: '45390'}\n"
     ]
    }
   ],
   "source": [
    "##FleetID is transformed\n",
    "\n",
    "FleetID_transformation = np.unique(df['FleetID'])\n",
    "FleetID_transformation\n",
    "\n",
    "\n",
    "gle = LabelEncoder()\n",
    "FleetID_labels = gle.fit_transform(df['FleetID'])\n",
    "genre_mappings = {index: label for index, label in \n",
    "                  enumerate(gle.classes_)}\n",
    "\n",
    "genre_mappings\n",
    "\n",
    "df['FleetID_code'] = FleetID_labels\n",
    "print(genre_mappings)"
   ]
  },
  {
   "cell_type": "code",
   "execution_count": 91,
   "metadata": {},
   "outputs": [
    {
     "name": "stdout",
     "output_type": "stream",
     "text": [
      "{0: '1L', 1: '1R', 2: '2LI', 3: '2LO', 4: '2RI', 5: '2RO', 6: '3LI', 7: '3LO', 8: '3RI', 9: '3RO', 10: '4LI', 11: '4LO', 12: '4RI', 13: '4RO', 14: '5LI', 15: '5LO', 16: '5RI', 17: '5RO'}\n"
     ]
    }
   ],
   "source": [
    "##WheelPosition is transformed\n",
    "\n",
    "WheelPosition_transformation = np.unique(df['WheelPosition'])\n",
    "WheelPosition_transformation\n",
    "\n",
    "\n",
    "gle = LabelEncoder()\n",
    "WheelPosition_labels = gle.fit_transform(df['WheelPosition'])\n",
    "genre_mappings = {index: label for index, label in \n",
    "                  enumerate(gle.classes_)}\n",
    "\n",
    "genre_mappings\n",
    "\n",
    "df['WheelPosition_code'] = WheelPosition_labels\n",
    "print(genre_mappings)"
   ]
  },
  {
   "cell_type": "code",
   "execution_count": 92,
   "metadata": {},
   "outputs": [
    {
     "name": "stdout",
     "output_type": "stream",
     "text": [
      "[ 0  1  2  3  4  5  6  7  8  9 10 11 12 13 14 15 16 17 18 19 20 21 22 23\n",
      " 24 25 26 27 28]\n",
      "19343\n"
     ]
    },
    {
     "data": {
      "image/png": "[encoded data removed]",
      "text/plain": [
       "<Figure size 432x288 with 1 Axes>"
      ]
     },
     "metadata": {
      "needs_background": "light"
     },
     "output_type": "display_data"
    }
   ],
   "source": [
    "##Analyzing Number of Endurance defect in each fleet\n",
    "\n",
    "MyList = df[\"FleetID_code\"]\n",
    "MyList = MyList.to_numpy()\n",
    "print(np.unique(MyList))\n",
    "\n",
    "x_array = []\n",
    "y_array= []\n",
    "\n",
    "for i in range(1,32):\n",
    "    x_array.append(i)\n",
    "    count1 = np.count_nonzero(MyList == i) \n",
    "    count1 = y_array.append(count1)\n",
    "\n",
    "##Plotting Fleet ID code vs the endurance defect\n",
    "plt.plot(x_array, y_array)\n",
    "plt.xlabel(\"Fleet_ID\")\n",
    "plt.ylabel(\"Number of Endurance Defects\")\n",
    "plt.title(\"Fleet ID VS Endurance Defect\")\n",
    "print(len(df))"
   ]
  },
  {
   "cell_type": "code",
   "execution_count": 93,
   "metadata": {},
   "outputs": [],
   "source": [
    "## Creating the train test spit in this code\n",
    "X = df[['Casing_Mileage', 'Casing_Age_Days', 'td_avg', 'NC_sidewall_CVMD_AMP_mean', 'NC_summit_CVMD_AMP_mean', 'NC_ZB_CVMD_AMP_mean', 'NC_turn_CVMD_AMP_mean', 'NC_summit_maxCVMD_rev_mean', 'NC_sidewall_maxCVMD_rev_mean', 'NC_turn_maxCVMD_rev_mean', 'NC_ZB_maxCVMD_rev_mean', 'D07_SEelm_cumul', 'NC_sidewall_SEelm_cumul', 'NC_summit_SEelm_cumul', 'NC_ZB_SEelm_cumul', 'BT_SEelm_cumul', 'PS_SEelm_cumul', 'BJ_SEelm_cumul', 'BR_SEelm_cumul', 'temp_Q_cumul']]\n",
    "y = df['End_Flag']\n",
    "\n",
    "X_train, X_test, y_train, y_test = train_test_split(X, y, test_size=0.3)\n"
   ]
  },
  {
   "cell_type": "code",
   "execution_count": 94,
   "metadata": {},
   "outputs": [
    {
     "name": "stdout",
     "output_type": "stream",
     "text": [
      "13540 5803\n"
     ]
    }
   ],
   "source": [
    "## Combine train and test dataset\n",
    "\n",
    "df2 = pd.concat([X_train, y_train], axis=1)\n",
    "df3 = pd.concat([X_test, y_test], axis=1)\n",
    "print(len(df2), len(df3))\n"
   ]
  },
  {
   "cell_type": "code",
   "execution_count": 95,
   "metadata": {},
   "outputs": [
    {
     "name": "stdout",
     "output_type": "stream",
     "text": [
      "The length of dataframe before concat is  13540\n",
      "The length of dataframe after concat is  1040\n"
     ]
    }
   ],
   "source": [
    "# Balancing the train dataset\n",
    "\n",
    "print(\"The length of dataframe before concat is \", len(df2))\n",
    "\n",
    "def select_balancing_method(df2, method, number_drop):\n",
    "    increase_minority = 'increase_minority'\n",
    "    if method == 'increase_minority':\n",
    "        duplicate_y = df2[df2['End_Flag']==1]\n",
    "        for i in range(0,10):\n",
    "            df2 = pd.concat([df2, duplicate_y], )\n",
    "        print(\"The length of dataframe after concat is \", len(df2))\n",
    "\n",
    "    elif method == 'decrease_majority': \n",
    "        duplicate_y = df2[df2['End_Flag']==0]\n",
    "        index_list = df2.index[ df2['End_Flag'] == 0]\n",
    "        #number_drop = int(input(\"Please enter the number of rows you want to delete: \"))\n",
    "        df2.drop(index_list[500:number_drop],0, inplace=True)\n",
    "        df2.head()\n",
    "        print(\"The length of dataframe after concat is \", len(df2))\n",
    "    return df2\n",
    "\n",
    "df2 = select_balancing_method(df2, method = 'decrease_majority', number_drop = 13000)\n",
    "\n",
    "X_train = df2[['Casing_Mileage', 'Casing_Age_Days', 'td_avg', 'NC_sidewall_CVMD_AMP_mean', 'NC_summit_CVMD_AMP_mean', 'NC_ZB_CVMD_AMP_mean', 'NC_turn_CVMD_AMP_mean', 'NC_summit_maxCVMD_rev_mean', 'NC_sidewall_maxCVMD_rev_mean', 'NC_turn_maxCVMD_rev_mean', 'NC_ZB_maxCVMD_rev_mean', 'D07_SEelm_cumul', 'NC_sidewall_SEelm_cumul', 'NC_summit_SEelm_cumul', 'NC_ZB_SEelm_cumul', 'BT_SEelm_cumul', 'PS_SEelm_cumul', 'BJ_SEelm_cumul', 'BR_SEelm_cumul', 'temp_Q_cumul']]\n",
    "y_train = df2['End_Flag']"
   ]
  },
  {
   "cell_type": "code",
   "execution_count": 96,
   "metadata": {},
   "outputs": [
    {
     "name": "stdout",
     "output_type": "stream",
     "text": [
      "1040 5803\n"
     ]
    }
   ],
   "source": [
    "## Running the Random forest model\n",
    "clf = RandomForestClassifier(n_estimators = 500, criterion='entropy',\n",
    "                                  random_state=10)\n",
    "\n",
    "clf.fit(X_train, y_train)\n",
    "print(len(X_train), len(X_test))\n",
    "y_pred = clf.predict(X_test)"
   ]
  },
  {
   "cell_type": "code",
   "execution_count": 97,
   "metadata": {},
   "outputs": [
    {
     "name": "stdout",
     "output_type": "stream",
     "text": [
      "Accuracy: 0.8690332586593141\n",
      "F1_score: 0.11007025761124122\n"
     ]
    },
    {
     "data": {
      "image/png": "[encoded data removed]",
      "text/plain": [
       "<Figure size 432x288 with 2 Axes>"
      ]
     },
     "metadata": {
      "needs_background": "light"
     },
     "output_type": "display_data"
    }
   ],
   "source": [
    "## Checking the metrics of Random Forest\n",
    "##printing the accuracy of the model\n",
    "print(\"Accuracy:\", metrics.accuracy_score(y_test, y_pred))\n",
    "print(\"F1_score:\", metrics.f1_score(y_test, y_pred))\n",
    "\n",
    "#Printing the confusion matrix\n",
    "disp = metrics.plot_confusion_matrix(clf, X_test, y_test, cmap=\"Blues\", values_format='.3g')\n"
   ]
  },
  {
   "cell_type": "code",
   "execution_count": null,
   "metadata": {},
   "outputs": [],
   "source": []
  },
  {
   "cell_type": "code",
   "execution_count": null,
   "metadata": {},
   "outputs": [],
   "source": []
  }
 ],
 "metadata": {
  "kernelspec": {
   "display_name": "Python 3.7.12 ('py33')",
   "language": "python",
   "name": "python3"
  },
  "language_info": {
   "codemirror_mode": {
    "name": "ipython",
    "version": 3
   },
   "file_extension": ".py",
   "mimetype": "text/x-python",
   "name": "python",
   "nbconvert_exporter": "python",
   "pygments_lexer": "ipython3",
   "version": "3.7.12"
  },
  "orig_nbformat": 4,
  "vscode": {
   "interpreter": {
    "hash": "31f4074ad0fcb7a54132278b816a31bfb269c6328148fd2529dfd4a7d45927d8"
   }
  }
 },
 "nbformat": 4,
 "nbformat_minor": 2
}

{
 "cells": [
  {
   "cell_type": "code",
   "execution_count": 20,
   "metadata": {},
   "outputs": [],
   "source": [
    "import pandas as p\n",
    "import numpy as np\n",
    "import matplotlib.pyplot as plt\n",
    "import pandas as pd\n",
    "import warnings\n",
    "import forestci as fci\n",
    "warnings.filterwarnings('ignore')\n",
    "from sklearn.preprocessing import LabelEncoder\n",
    "from sklearn.model_selection import train_test_split\n",
    "from sklearn.ensemble import RandomForestClassifier\n",
    "from sklearn import metrics\n",
    "import matplotlib.pyplot as plt\n",
    "from sklearn.svm import SVC\n",
    "from sklearn.ensemble import RandomForestClassifier\n",
    "from sklearn.metrics import RocCurveDisplay\n",
    "from sklearn.datasets import load_wine\n",
    "from sklearn.model_selection import train_test_split\n",
    "import Statistics_MT\n",
    "\n"
   ]
  },
  {
   "cell_type": "code",
   "execution_count": 3,
   "metadata": {},
   "outputs": [],
   "source": [
    "## The file is opened as a Dataframe \n",
    "df = p.read_csv('/Users/vispikarkaria/Downloads/share_data_withFEA_metrics.csv')\n",
    "df = df.dropna()\n"
   ]
  },
  {
   "cell_type": "code",
   "execution_count": 4,
   "metadata": {},
   "outputs": [
    {
     "name": "stdout",
     "output_type": "stream",
     "text": [
      "{0: '10101', 1: '10109', 2: '10112', 3: '10114', 4: '10120', 5: '10150', 6: '10151', 7: '10153', 8: '10155', 9: '10157', 10: '12005', 11: '20004', 12: '20006', 13: '20007', 14: '20019', 15: '30100', 16: '30101', 17: '30105', 18: '30241', 19: '30253', 20: '30257', 21: '30258', 22: '30301', 23: '35278', 24: '35308', 25: '35313', 26: '35404', 27: '35404_OLD', 28: '45390'}\n"
     ]
    }
   ],
   "source": [
    "##FleetID is transformed\n",
    "\n",
    "FleetID_transformation = np.unique(df['FleetID'])\n",
    "FleetID_transformation\n",
    "\n",
    "\n",
    "gle = LabelEncoder()\n",
    "FleetID_labels = gle.fit_transform(df['FleetID'])\n",
    "genre_mappings = {index: label for index, label in \n",
    "                  enumerate(gle.classes_)}\n",
    "\n",
    "genre_mappings\n",
    "\n",
    "df['FleetID_code'] = FleetID_labels\n",
    "print(genre_mappings)"
   ]
  },
  {
   "cell_type": "code",
   "execution_count": 5,
   "metadata": {},
   "outputs": [
    {
     "name": "stdout",
     "output_type": "stream",
     "text": [
      "{0: '1L', 1: '1R', 2: '2LI', 3: '2LO', 4: '2RI', 5: '2RO', 6: '3LI', 7: '3LO', 8: '3RI', 9: '3RO', 10: '4LI', 11: '4LO', 12: '4RI', 13: '4RO', 14: '5LI', 15: '5LO', 16: '5RI', 17: '5RO'}\n"
     ]
    }
   ],
   "source": [
    "##WheelPosition is transformed\n",
    "\n",
    "WheelPosition_transformation = np.unique(df['WheelPosition'])\n",
    "WheelPosition_transformation\n",
    "\n",
    "\n",
    "gle = LabelEncoder()\n",
    "WheelPosition_labels = gle.fit_transform(df['WheelPosition'])\n",
    "genre_mappings = {index: label for index, label in \n",
    "                  enumerate(gle.classes_)}\n",
    "\n",
    "genre_mappings\n",
    "\n",
    "df['WheelPosition_code'] = WheelPosition_labels\n",
    "print(genre_mappings)"
   ]
  },
  {
   "cell_type": "code",
   "execution_count": 6,
   "metadata": {},
   "outputs": [
    {
     "name": "stdout",
     "output_type": "stream",
     "text": [
      "[ 0  1  2  3  4  5  6  7  8  9 10 11 12 13 14 15 16 17 18 19 20 21 22 23\n",
      " 24 25 26 27 28]\n",
      "19343\n"
     ]
    },
    {
     "data": {
      "image/png": "[encoded data removed]",
      "text/plain": [
       "<Figure size 432x288 with 1 Axes>"
      ]
     },
     "metadata": {
      "needs_background": "light"
     },
     "output_type": "display_data"
    }
   ],
   "source": [
    "##Analyzing Number of Endurance defect in each fleet\n",
    "\n",
    "MyList = df[\"FleetID_code\"]\n",
    "MyList = MyList.to_numpy()\n",
    "print(np.unique(MyList))\n",
    "\n",
    "x_array = []\n",
    "y_array= []\n",
    "\n",
    "for i in range(1,32):\n",
    "    x_array.append(i)\n",
    "    count1 = np.count_nonzero(MyList == i) \n",
    "    count1 = y_array.append(count1)\n",
    "\n",
    "##Plotting Fleet ID code vs the endurance defect\n",
    "plt.plot(x_array, y_array)\n",
    "plt.xlabel(\"Fleet_ID\")\n",
    "plt.ylabel(\"Number of Endurance Defects\")\n",
    "plt.title(\"Fleet ID VS Endurance Defect\")\n",
    "print(len(df))"
   ]
  },
  {
   "cell_type": "code",
   "execution_count": 7,
   "metadata": {},
   "outputs": [],
   "source": [
    "## Creating the train test spit in this code\n",
    "X = df[['Casing_Mileage', 'Casing_Age_Days', 'td_avg', 'NC_sidewall_CVMD_AMP_mean', 'NC_summit_CVMD_AMP_mean', 'NC_ZB_CVMD_AMP_mean', 'NC_turn_CVMD_AMP_mean', 'NC_summit_maxCVMD_rev_mean', 'NC_sidewall_maxCVMD_rev_mean', 'NC_turn_maxCVMD_rev_mean', 'NC_ZB_maxCVMD_rev_mean', 'D07_SEelm_cumul', 'NC_sidewall_SEelm_cumul', 'NC_summit_SEelm_cumul', 'NC_ZB_SEelm_cumul', 'BT_SEelm_cumul', 'PS_SEelm_cumul', 'BJ_SEelm_cumul', 'BR_SEelm_cumul', 'temp_Q_cumul']]\n",
    "y = df['End_Flag']\n",
    "\n",
    "X_train, X_test, y_train, y_test = train_test_split(X, y, test_size=0.3)\n"
   ]
  },
  {
   "cell_type": "code",
   "execution_count": 8,
   "metadata": {},
   "outputs": [
    {
     "name": "stdout",
     "output_type": "stream",
     "text": [
      "13540 5803\n"
     ]
    }
   ],
   "source": [
    "## Combine train and test dataset\n",
    "\n",
    "df2 = pd.concat([X_train, y_train], axis=1)\n",
    "df3 = pd.concat([X_test, y_test], axis=1)\n",
    "print(len(df2), len(df3))\n"
   ]
  },
  {
   "cell_type": "code",
   "execution_count": 9,
   "metadata": {},
   "outputs": [
    {
     "name": "stdout",
     "output_type": "stream",
     "text": [
      "The length of dataframe before concat is  13540\n",
      "The length of dataframe after concat is  1040\n"
     ]
    }
   ],
   "source": [
    "# Balancing the train dataset\n",
    "\n",
    "print(\"The length of dataframe before concat is \", len(df2))\n",
    "\n",
    "def select_balancing_method(df2, method, number_drop):\n",
    "    increase_minority = 'increase_minority'\n",
    "    if method == 'increase_minority':\n",
    "        duplicate_y = df2[df2['End_Flag']==1]\n",
    "        for i in range(0,10):\n",
    "            df2 = pd.concat([df2, duplicate_y], )\n",
    "        print(\"The length of dataframe after concat is \", len(df2))\n",
    "\n",
    "    elif method == 'decrease_majority': \n",
    "        duplicate_y = df2[df2['End_Flag']==0]\n",
    "        index_list = df2.index[ df2['End_Flag'] == 0]\n",
    "        #number_drop = int(input(\"Please enter the number of rows you want to delete: \"))\n",
    "        df2.drop(index_list[500:number_drop],0, inplace=True)\n",
    "        df2.head()\n",
    "        print(\"The length of dataframe after concat is \", len(df2))\n",
    "    return df2\n",
    "\n",
    "df2 = select_balancing_method(df2, method = 'decrease_majority', number_drop = 13000)\n",
    "\n",
    "X_train = df2[['Casing_Mileage', 'Casing_Age_Days', 'td_avg', 'NC_sidewall_CVMD_AMP_mean', 'NC_summit_CVMD_AMP_mean', 'NC_ZB_CVMD_AMP_mean', 'NC_turn_CVMD_AMP_mean', 'NC_summit_maxCVMD_rev_mean', 'NC_sidewall_maxCVMD_rev_mean', 'NC_turn_maxCVMD_rev_mean', 'NC_ZB_maxCVMD_rev_mean', 'D07_SEelm_cumul', 'NC_sidewall_SEelm_cumul', 'NC_summit_SEelm_cumul', 'NC_ZB_SEelm_cumul', 'BT_SEelm_cumul', 'PS_SEelm_cumul', 'BJ_SEelm_cumul', 'BR_SEelm_cumul', 'temp_Q_cumul']]\n",
    "y_train = df2['End_Flag']"
   ]
  },
  {
   "cell_type": "code",
   "execution_count": 10,
   "metadata": {},
   "outputs": [
    {
     "name": "stdout",
     "output_type": "stream",
     "text": [
      "1040 5803\n"
     ]
    }
   ],
   "source": [
    "## Running the Random forest model\n",
    "clf = RandomForestClassifier(n_estimators = 500, criterion='entropy',\n",
    "                                  random_state=10)\n",
    "\n",
    "clf.fit(X_train, y_train)\n",
    "print(len(X_train), len(X_test))\n",
    "y_pred = clf.predict(X_test)"
   ]
  },
  {
   "cell_type": "code",
   "execution_count": 11,
   "metadata": {},
   "outputs": [
    {
     "name": "stdout",
     "output_type": "stream",
     "text": [
      "Accuracy: 0.8402550404962951\n",
      "F1_score: 0.07944389275074479\n"
     ]
    },
    {
     "data": {
      "image/png": "[encoded data removed]",
      "text/plain": [
       "<Figure size 432x288 with 2 Axes>"
      ]
     },
     "metadata": {
      "needs_background": "light"
     },
     "output_type": "display_data"
    }
   ],
   "source": [
    "## Checking the metrics of Random Forest\n",
    "##printing the accuracy of the model\n",
    "print(\"Accuracy:\", metrics.accuracy_score(y_test, y_pred))\n",
    "print(\"F1_score:\", metrics.f1_score(y_test, y_pred))\n",
    "\n",
    "#Printing the confusion matrix\n",
    "disp = metrics.plot_confusion_matrix(clf, X_test, y_test, cmap=\"Blues\", values_format='.3g')\n"
   ]
  },
  {
   "cell_type": "code",
   "execution_count": 12,
   "metadata": {},
   "outputs": [
    {
     "name": "stdout",
     "output_type": "stream",
     "text": [
      "[ 8.07220000e+04  2.66000000e+02  1.30000000e+01  4.75093401e-03\n",
      "  9.82087540e-04  2.17913487e-03  1.90018021e-03  8.79218926e-05\n",
      " -1.03586984e-02  4.59467190e-02 -6.19460464e-03  1.81108934e+04\n",
      "  2.64252486e+02  1.06103915e+02  8.42672296e+02  1.54525850e+04\n",
      "  1.65136211e+04  4.72510409e+04  4.53561221e+04  3.14458266e+02]\n",
      "              precision    recall  f1-score   support\n",
      "\n",
      "         0.0       0.98      0.85      0.91      5667\n",
      "         1.0       0.05      0.29      0.08       136\n",
      "\n",
      "    accuracy                           0.84      5803\n",
      "   macro avg       0.51      0.57      0.50      5803\n",
      "weighted avg       0.96      0.84      0.89      5803\n",
      "\n"
     ]
    }
   ],
   "source": [
    "## Get the classification report\n",
    "\n",
    "X_test_numpy = X_test.to_numpy()\n",
    "print(X_test_numpy[1,:])\n",
    "print(metrics.classification_report(y_test, y_pred))"
   ]
  },
  {
   "cell_type": "code",
   "execution_count": 13,
   "metadata": {},
   "outputs": [
    {
     "name": "stdout",
     "output_type": "stream",
     "text": [
      "[0.06056553 0.06793232 0.06111915 0.0347562  0.03466284 0.03485721\n",
      " 0.03742559 0.03356369 0.03705633 0.03266971 0.03489351 0.05409285\n",
      " 0.05980013 0.06287435 0.05932018 0.05870872 0.05626799 0.05999007\n",
      " 0.05467055 0.06477308]\n"
     ]
    },
    {
     "data": {
      "text/plain": [
       "Text(0.5, 1.0, 'Importance of Various Input Parameters')"
      ]
     },
     "execution_count": 13,
     "metadata": {},
     "output_type": "execute_result"
    },
    {
     "data": {
      "image/png": "[encoded data removed]",
      "text/plain": [
       "<Figure size 1800x360 with 1 Axes>"
      ]
     },
     "metadata": {
      "needs_background": "light"
     },
     "output_type": "display_data"
    }
   ],
   "source": [
    "## Check the sensitivity of each variable\n",
    "\n",
    "importance = clf.feature_importances_\n",
    "print(importance)\n",
    "plt.figure(figsize=(25, 5))\n",
    "X_importance = ['Casing_Mileage', 'Casing_Age_Days', 'td_avg', 'NC_sidewall_CVMD_AMP_mean', 'NC_summit_CVMD_AMP_mean', 'NC_ZB_CVMD_AMP_mean', 'NC_turn_CVMD_AMP_mean', 'NC_summit_maxCVMD_rev_mean', 'NC_sidewall_maxCVMD_rev_mean', 'NC_turn_maxCVMD_rev_mean', 'NC_ZB_maxCVMD_rev_mean', 'D07_SEelm_cumul', 'NC_sidewall_SEelm_cumul', 'NC_summit_SEelm_cumul', 'NC_ZB_SEelm_cumul', 'BT_SEelm_cumul', 'PS_SEelm_cumul', 'BJ_SEelm_cumul', 'BR_SEelm_cumul', 'temp_Q_cumul']\n",
    "plt.bar(X_importance, importance)\n",
    "plt.ylabel(\"Significance_Level\")\n",
    "plt.xlabel(\"Input Variables\")\n",
    "plt.title(\"Importance of Various Input Parameters\")"
   ]
  },
  {
   "cell_type": "code",
   "execution_count": 14,
   "metadata": {},
   "outputs": [
    {
     "data": {
      "image/png": "[encoded data removed]",
      "text/plain": [
       "<Figure size 432x288 with 1 Axes>"
      ]
     },
     "metadata": {
      "needs_background": "light"
     },
     "output_type": "display_data"
    }
   ],
   "source": [
    "## Plotting SVC vs Random forest ROC plot \n",
    "rfc = RandomForestClassifier(n_estimators=10, random_state=42)\n",
    "rfc.fit(X_train, y_train)\n",
    "ax = plt.gca()\n",
    "rfc_disp = RocCurveDisplay.from_estimator(rfc, X_test, y_test, ax=ax, alpha=0.8)\n",
    "#svc_disp = RocCurveDisplay.from_estimator(svc, X_test, y_test)\n",
    "x_axis1 = np.linspace(0,1,10)\n",
    "plt.plot(x_axis1, x_axis1)\n",
    "#svc_disp.plot(ax=ax, alpha=0.8)\n",
    "plt.show()"
   ]
  },
  {
   "cell_type": "code",
   "execution_count": 15,
   "metadata": {},
   "outputs": [
    {
     "name": "stdout",
     "output_type": "stream",
     "text": [
      "[0.02517477 0.03503337 0.03049044 ... 0.03405548 0.01999813 0.02764761]\n"
     ]
    }
   ],
   "source": [
    "# Calculating the Variance\n",
    "\n",
    "Defect_Variance = fci.random_forest_error(clf, X_train,\n",
    "                                             X_test)\n",
    "print(Defect_Variance)"
   ]
  },
  {
   "cell_type": "code",
   "execution_count": 16,
   "metadata": {},
   "outputs": [
    {
     "data": {
      "image/png": "[encoded data removed]",
      "text/plain": [
       "<Figure size 432x288 with 1 Axes>"
      ]
     },
     "metadata": {
      "needs_background": "light"
     },
     "output_type": "display_data"
    }
   ],
   "source": [
    "# Plot variance for better understanding\n",
    "x_Scale = np.linspace(1,2113,2113)\n",
    "\n",
    "fig, ax = plt.subplots(1)\n",
    "ax.scatter(x_Scale[1:100],\n",
    "           np.sqrt(Defect_Variance[1:100]),\n",
    "           label='Variance in Prediction')\n",
    "\n",
    "\n",
    "\n",
    "ax.set_xlabel('Prediction')\n",
    "ax.set_ylabel('Standard deviation')\n",
    "plt.legend()\n",
    "plt.show()"
   ]
  },
  {
   "cell_type": "code",
   "execution_count": 22,
   "metadata": {},
   "outputs": [
    {
     "name": "stdout",
     "output_type": "stream",
     "text": [
      "5803 5803\n"
     ]
    }
   ],
   "source": [
    "# calculating confidence interval\n",
    "import scipy\n",
    "def conf_int(mean, variance, confidence):\n",
    "    upper_bound_array = []\n",
    "    lower_bound_array = []\n",
    "    st_dev = np.sqrt(variance)\n",
    "    n = int(len(mean))\n",
    "    count = 0\n",
    "    for x in range(0, n):\n",
    "        h = (st_dev[x]*scipy.stats.t.ppf((1-confidence)/2., n-1))/2\n",
    "        upper_bound = float(mean[x])+float(h)\n",
    "        lower_bound = float(mean[x])-float(h)\n",
    "        #print(upper_bound, lower_bound)\n",
    "        upper_bound_array.append(upper_bound)\n",
    "        lower_bound_array.append(lower_bound)\n",
    "        count = count + 1\n",
    "    \n",
    "    \n",
    "    return upper_bound_array, mean, lower_bound_array, count\n",
    "\n",
    "\n",
    "y_pred = clf.predict_proba(X_test)\n",
    "y_pred = y_pred[:,1]\n",
    "print(len(y_pred), len(Defect_Variance))\n",
    "Defect_Variance = fci.random_forest_error(clf, X_train,\n",
    "                                             X_test)\n",
    "y_ub, y, y_lb, c = conf_int(y_pred, Defect_Variance, 0.95)\n",
    "\n",
    "\n",
    "\n"
   ]
  },
  {
   "cell_type": "code",
   "execution_count": null,
   "metadata": {},
   "outputs": [],
   "source": [
    "array_defect_miles = []\n",
    "space_range = np.linspace(0, 1000000, 1000)\n",
    "np.shape((space_range))\n",
    "X_cont_array = []\n",
    "Total_miles = 700000\n",
    "for miles in space_range: \n",
    "    if miles<Total_miles/3:\n",
    "        X_cont = [0.00000000e+00, 0.00000000e+00, miles, miles,\n",
    "        0, 0, 0.00000000e+00, 0.00000000e+00,\n",
    "        90.025644, 1e-4*miles, miles, 4.00000000e+00,\n",
    "        1e3*miles]\n",
    "    \n",
    "    elif miles >=Total_miles/3 and miles < (Total_miles*2)/3:\n",
    "        X_cont = [1.00000000e+00, 0.00000000e+00, miles, miles,\n",
    "        0, 0, 0.00000000e+00, 0.00000000e+00,\n",
    "        90.025644, 1e-4*miles, miles, 4.00000000e+00,\n",
    "        1e5*miles]    \n",
    "\n",
    "    elif miles >=(Total_miles*2)/3:\n",
    "        X_cont = [2.00000000e+00, 1.00000000e+00, miles, miles,\n",
    "        0, 0, 0.00000000e+00, 1.00000000e+00,\n",
    "        90, 1e-3*miles, miles, 4.00000000e+00,\n",
    "        1e7*miles]    \n",
    "\n",
    "\n",
    "\n",
    "    X_cont = np.reshape(X_cont, [1,-1])\n",
    "    X_cont_answer = clf.predict_proba(X_cont)\n",
    "    X_answer = X_cont_answer[:,1]\n",
    "    array_defect_miles.append(X_answer)\n",
    "    X_cont = X_cont.flatten()\n",
    "    X_cont_array.append(X_cont)"
   ]
  },
  {
   "cell_type": "code",
   "execution_count": 23,
   "metadata": {},
   "outputs": [
    {
     "data": {
      "text/html": [
       "<div>\n",
       "<style scoped>\n",
       "    .dataframe tbody tr th:only-of-type {\n",
       "        vertical-align: middle;\n",
       "    }\n",
       "\n",
       "    .dataframe tbody tr th {\n",
       "        vertical-align: top;\n",
       "    }\n",
       "\n",
       "    .dataframe thead th {\n",
       "        text-align: right;\n",
       "    }\n",
       "</style>\n",
       "<table border=\"1\" class=\"dataframe\">\n",
       "  <thead>\n",
       "    <tr style=\"text-align: right;\">\n",
       "      <th></th>\n",
       "      <th>Casing_Mileage</th>\n",
       "      <th>Casing_Age_Days</th>\n",
       "      <th>td_avg</th>\n",
       "      <th>NC_sidewall_CVMD_AMP_mean</th>\n",
       "      <th>NC_sidewall_CVMD_AMP_mean_std</th>\n",
       "      <th>NC_summit_CVMD_AMP_mean</th>\n",
       "      <th>NC_summit_CVMD_AMP_mean_std</th>\n",
       "      <th>NC_ZB_CVMD_AMP_mean</th>\n",
       "      <th>NC_ZB_CVMD_AMP_mean_std</th>\n",
       "      <th>NC_turn_CVMD_AMP_mean</th>\n",
       "      <th>...</th>\n",
       "      <th>NC_summit_SEelm_cumul</th>\n",
       "      <th>NC_ZB_SEelm_cumul</th>\n",
       "      <th>BT_SEelm_cumul</th>\n",
       "      <th>PS_SEelm_cumul</th>\n",
       "      <th>BJ_SEelm_cumul</th>\n",
       "      <th>BR_SEelm_cumul</th>\n",
       "      <th>temp_Q_cumul</th>\n",
       "      <th>End_Flag</th>\n",
       "      <th>FleetID_code</th>\n",
       "      <th>WheelPosition_code</th>\n",
       "    </tr>\n",
       "  </thead>\n",
       "  <tbody>\n",
       "    <tr>\n",
       "      <th>count</th>\n",
       "      <td>19343.000000</td>\n",
       "      <td>19343.000000</td>\n",
       "      <td>19343.000000</td>\n",
       "      <td>19343.000000</td>\n",
       "      <td>19343.000000</td>\n",
       "      <td>19343.000000</td>\n",
       "      <td>19343.000000</td>\n",
       "      <td>19343.000000</td>\n",
       "      <td>19343.000000</td>\n",
       "      <td>19343.000000</td>\n",
       "      <td>...</td>\n",
       "      <td>19343.000000</td>\n",
       "      <td>19343.000000</td>\n",
       "      <td>19343.000000</td>\n",
       "      <td>19343.000000</td>\n",
       "      <td>19343.000000</td>\n",
       "      <td>19343.000000</td>\n",
       "      <td>19343.000000</td>\n",
       "      <td>19343.000000</td>\n",
       "      <td>19343.000000</td>\n",
       "      <td>19343.000000</td>\n",
       "    </tr>\n",
       "    <tr>\n",
       "      <th>mean</th>\n",
       "      <td>234991.908300</td>\n",
       "      <td>619.804477</td>\n",
       "      <td>13.540014</td>\n",
       "      <td>0.004490</td>\n",
       "      <td>0.000238</td>\n",
       "      <td>0.000988</td>\n",
       "      <td>0.000014</td>\n",
       "      <td>0.002039</td>\n",
       "      <td>0.000132</td>\n",
       "      <td>0.001946</td>\n",
       "      <td>...</td>\n",
       "      <td>322.034580</td>\n",
       "      <td>2570.128375</td>\n",
       "      <td>48269.395164</td>\n",
       "      <td>51496.317910</td>\n",
       "      <td>137968.950258</td>\n",
       "      <td>138833.028419</td>\n",
       "      <td>1759.661491</td>\n",
       "      <td>0.025074</td>\n",
       "      <td>11.971618</td>\n",
       "      <td>5.853590</td>\n",
       "    </tr>\n",
       "    <tr>\n",
       "      <th>std</th>\n",
       "      <td>149280.127166</td>\n",
       "      <td>431.956015</td>\n",
       "      <td>5.168694</td>\n",
       "      <td>0.000421</td>\n",
       "      <td>0.000128</td>\n",
       "      <td>0.000010</td>\n",
       "      <td>0.000006</td>\n",
       "      <td>0.000248</td>\n",
       "      <td>0.000076</td>\n",
       "      <td>0.000056</td>\n",
       "      <td>...</td>\n",
       "      <td>204.018862</td>\n",
       "      <td>1650.277572</td>\n",
       "      <td>30914.699302</td>\n",
       "      <td>33345.321915</td>\n",
       "      <td>87450.873441</td>\n",
       "      <td>88318.818451</td>\n",
       "      <td>2444.023100</td>\n",
       "      <td>0.156353</td>\n",
       "      <td>8.015119</td>\n",
       "      <td>4.571774</td>\n",
       "    </tr>\n",
       "    <tr>\n",
       "      <th>min</th>\n",
       "      <td>1.000000</td>\n",
       "      <td>1.000000</td>\n",
       "      <td>1.000000</td>\n",
       "      <td>0.003860</td>\n",
       "      <td>0.000002</td>\n",
       "      <td>0.000966</td>\n",
       "      <td>0.000003</td>\n",
       "      <td>0.001683</td>\n",
       "      <td>0.000001</td>\n",
       "      <td>0.001813</td>\n",
       "      <td>...</td>\n",
       "      <td>0.001207</td>\n",
       "      <td>0.011034</td>\n",
       "      <td>0.198663</td>\n",
       "      <td>0.225141</td>\n",
       "      <td>0.576617</td>\n",
       "      <td>0.558405</td>\n",
       "      <td>-1539.684028</td>\n",
       "      <td>0.000000</td>\n",
       "      <td>0.000000</td>\n",
       "      <td>0.000000</td>\n",
       "    </tr>\n",
       "    <tr>\n",
       "      <th>25%</th>\n",
       "      <td>117126.570000</td>\n",
       "      <td>267.000000</td>\n",
       "      <td>9.354312</td>\n",
       "      <td>0.003985</td>\n",
       "      <td>0.000136</td>\n",
       "      <td>0.000982</td>\n",
       "      <td>0.000010</td>\n",
       "      <td>0.001748</td>\n",
       "      <td>0.000072</td>\n",
       "      <td>0.001907</td>\n",
       "      <td>...</td>\n",
       "      <td>158.208902</td>\n",
       "      <td>1267.287348</td>\n",
       "      <td>23752.928342</td>\n",
       "      <td>25149.371977</td>\n",
       "      <td>68779.327998</td>\n",
       "      <td>68647.257903</td>\n",
       "      <td>474.716974</td>\n",
       "      <td>0.000000</td>\n",
       "      <td>4.000000</td>\n",
       "      <td>2.000000</td>\n",
       "    </tr>\n",
       "    <tr>\n",
       "      <th>50%</th>\n",
       "      <td>210030.854452</td>\n",
       "      <td>519.000000</td>\n",
       "      <td>13.133832</td>\n",
       "      <td>0.004621</td>\n",
       "      <td>0.000270</td>\n",
       "      <td>0.000987</td>\n",
       "      <td>0.000014</td>\n",
       "      <td>0.002092</td>\n",
       "      <td>0.000146</td>\n",
       "      <td>0.001950</td>\n",
       "      <td>...</td>\n",
       "      <td>288.435056</td>\n",
       "      <td>2288.931103</td>\n",
       "      <td>43046.778842</td>\n",
       "      <td>45681.417784</td>\n",
       "      <td>123756.982711</td>\n",
       "      <td>124377.731577</td>\n",
       "      <td>1076.639825</td>\n",
       "      <td>0.000000</td>\n",
       "      <td>10.000000</td>\n",
       "      <td>5.000000</td>\n",
       "    </tr>\n",
       "    <tr>\n",
       "      <th>75%</th>\n",
       "      <td>329984.760000</td>\n",
       "      <td>897.000000</td>\n",
       "      <td>17.475000</td>\n",
       "      <td>0.004766</td>\n",
       "      <td>0.000326</td>\n",
       "      <td>0.000995</td>\n",
       "      <td>0.000017</td>\n",
       "      <td>0.002198</td>\n",
       "      <td>0.000184</td>\n",
       "      <td>0.001983</td>\n",
       "      <td>...</td>\n",
       "      <td>453.698299</td>\n",
       "      <td>3609.705515</td>\n",
       "      <td>67916.903076</td>\n",
       "      <td>72454.146919</td>\n",
       "      <td>193992.339224</td>\n",
       "      <td>195083.544566</td>\n",
       "      <td>2018.535944</td>\n",
       "      <td>0.000000</td>\n",
       "      <td>19.000000</td>\n",
       "      <td>9.000000</td>\n",
       "    </tr>\n",
       "    <tr>\n",
       "      <th>max</th>\n",
       "      <td>888544.400000</td>\n",
       "      <td>2191.000000</td>\n",
       "      <td>26.500000</td>\n",
       "      <td>0.006462</td>\n",
       "      <td>0.000890</td>\n",
       "      <td>0.001010</td>\n",
       "      <td>0.000031</td>\n",
       "      <td>0.003297</td>\n",
       "      <td>0.000555</td>\n",
       "      <td>0.002060</td>\n",
       "      <td>...</td>\n",
       "      <td>1249.920187</td>\n",
       "      <td>9951.322697</td>\n",
       "      <td>187165.603310</td>\n",
       "      <td>202720.382456</td>\n",
       "      <td>522868.176390</td>\n",
       "      <td>534075.543620</td>\n",
       "      <td>34580.378762</td>\n",
       "      <td>1.000000</td>\n",
       "      <td>28.000000</td>\n",
       "      <td>17.000000</td>\n",
       "    </tr>\n",
       "  </tbody>\n",
       "</table>\n",
       "<p>8 rows × 33 columns</p>\n",
       "</div>"
      ],
      "text/plain": [
       "       Casing_Mileage  Casing_Age_Days        td_avg  \\\n",
       "count    19343.000000     19343.000000  19343.000000   \n",
       "mean    234991.908300       619.804477     13.540014   \n",
       "std     149280.127166       431.956015      5.168694   \n",
       "min          1.000000         1.000000      1.000000   \n",
       "25%     117126.570000       267.000000      9.354312   \n",
       "50%     210030.854452       519.000000     13.133832   \n",
       "75%     329984.760000       897.000000     17.475000   \n",
       "max     888544.400000      2191.000000     26.500000   \n",
       "\n",
       "       NC_sidewall_CVMD_AMP_mean  NC_sidewall_CVMD_AMP_mean_std  \\\n",
       "count               19343.000000                   19343.000000   \n",
       "mean                    0.004490                       0.000238   \n",
       "std                     0.000421                       0.000128   \n",
       "min                     0.003860                       0.000002   \n",
       "25%                     0.003985                       0.000136   \n",
       "50%                     0.004621                       0.000270   \n",
       "75%                     0.004766                       0.000326   \n",
       "max                     0.006462                       0.000890   \n",
       "\n",
       "       NC_summit_CVMD_AMP_mean  NC_summit_CVMD_AMP_mean_std  \\\n",
       "count             19343.000000                 19343.000000   \n",
       "mean                  0.000988                     0.000014   \n",
       "std                   0.000010                     0.000006   \n",
       "min                   0.000966                     0.000003   \n",
       "25%                   0.000982                     0.000010   \n",
       "50%                   0.000987                     0.000014   \n",
       "75%                   0.000995                     0.000017   \n",
       "max                   0.001010                     0.000031   \n",
       "\n",
       "       NC_ZB_CVMD_AMP_mean  NC_ZB_CVMD_AMP_mean_std  NC_turn_CVMD_AMP_mean  \\\n",
       "count         19343.000000             19343.000000           19343.000000   \n",
       "mean              0.002039                 0.000132               0.001946   \n",
       "std               0.000248                 0.000076               0.000056   \n",
       "min               0.001683                 0.000001               0.001813   \n",
       "25%               0.001748                 0.000072               0.001907   \n",
       "50%               0.002092                 0.000146               0.001950   \n",
       "75%               0.002198                 0.000184               0.001983   \n",
       "max               0.003297                 0.000555               0.002060   \n",
       "\n",
       "       ...  NC_summit_SEelm_cumul  NC_ZB_SEelm_cumul  BT_SEelm_cumul  \\\n",
       "count  ...           19343.000000       19343.000000    19343.000000   \n",
       "mean   ...             322.034580        2570.128375    48269.395164   \n",
       "std    ...             204.018862        1650.277572    30914.699302   \n",
       "min    ...               0.001207           0.011034        0.198663   \n",
       "25%    ...             158.208902        1267.287348    23752.928342   \n",
       "50%    ...             288.435056        2288.931103    43046.778842   \n",
       "75%    ...             453.698299        3609.705515    67916.903076   \n",
       "max    ...            1249.920187        9951.322697   187165.603310   \n",
       "\n",
       "       PS_SEelm_cumul  BJ_SEelm_cumul  BR_SEelm_cumul  temp_Q_cumul  \\\n",
       "count    19343.000000    19343.000000    19343.000000  19343.000000   \n",
       "mean     51496.317910   137968.950258   138833.028419   1759.661491   \n",
       "std      33345.321915    87450.873441    88318.818451   2444.023100   \n",
       "min          0.225141        0.576617        0.558405  -1539.684028   \n",
       "25%      25149.371977    68779.327998    68647.257903    474.716974   \n",
       "50%      45681.417784   123756.982711   124377.731577   1076.639825   \n",
       "75%      72454.146919   193992.339224   195083.544566   2018.535944   \n",
       "max     202720.382456   522868.176390   534075.543620  34580.378762   \n",
       "\n",
       "           End_Flag  FleetID_code  WheelPosition_code  \n",
       "count  19343.000000  19343.000000        19343.000000  \n",
       "mean       0.025074     11.971618            5.853590  \n",
       "std        0.156353      8.015119            4.571774  \n",
       "min        0.000000      0.000000            0.000000  \n",
       "25%        0.000000      4.000000            2.000000  \n",
       "50%        0.000000     10.000000            5.000000  \n",
       "75%        0.000000     19.000000            9.000000  \n",
       "max        1.000000     28.000000           17.000000  \n",
       "\n",
       "[8 rows x 33 columns]"
      ]
     },
     "execution_count": 23,
     "metadata": {},
     "output_type": "execute_result"
    }
   ],
   "source": [
    "df.describe()"
   ]
  },
  {
   "cell_type": "code",
   "execution_count": null,
   "metadata": {},
   "outputs": [],
   "source": []
  }
 ],
 "metadata": {
  "kernelspec": {
   "display_name": "Python 3.7.12 ('py33')",
   "language": "python",
   "name": "python3"
  },
  "language_info": {
   "codemirror_mode": {
    "name": "ipython",
    "version": 3
   },
   "file_extension": ".py",
   "mimetype": "text/x-python",
   "name": "python",
   "nbconvert_exporter": "python",
   "pygments_lexer": "ipython3",
   "version": "3.7.12"
  },
  "orig_nbformat": 4,
  "vscode": {
   "interpreter": {
    "hash": "31f4074ad0fcb7a54132278b816a31bfb269c6328148fd2529dfd4a7d45927d8"
   }
  }
 },
 "nbformat": 4,
 "nbformat_minor": 2
}
